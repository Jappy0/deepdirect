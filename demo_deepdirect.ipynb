{
 "cells": [
  {
   "cell_type": "code",
   "execution_count": 32,
   "metadata": {},
   "outputs": [],
   "source": [
    "from deepdirect.model import build_aa_mutator, decode_seq_int\n",
    "from tensorflow.keras import backend as K\n",
    "import deepdirect\n",
    "import pickle\n",
    "import numpy as np"
   ]
  },
  {
   "cell_type": "code",
   "execution_count": 6,
   "metadata": {},
   "outputs": [],
   "source": [
    "# Load input data\n",
    "# List of file names\n",
    "file_names = ['pre.pkl', 'rbd.pkl', 'same.pkl', 'x.pkl', 'y.pkl', 'z.pkl', 'noise.pkl']\n",
    "\n",
    "input_data = []\n",
    "# Load data from each pickle file\n",
    "for file_name in file_names:\n",
    "    with open(\"./demo_data/\" + file_name, 'rb') as file:\n",
    "        input_data.append(pickle.load(file)) "
   ]
  },
  {
   "cell_type": "code",
   "execution_count": 5,
   "metadata": {},
   "outputs": [
    {
     "data": {
      "text/plain": [
       "<tf.Tensor: shape=(1, 3924, 20), dtype=float32, numpy=\n",
       "array([[[0., 0., 0., ..., 0., 0., 0.],\n",
       "        [0., 0., 0., ..., 1., 0., 0.],\n",
       "        [0., 0., 0., ..., 0., 0., 0.],\n",
       "        ...,\n",
       "        [0., 0., 0., ..., 0., 0., 0.],\n",
       "        [0., 0., 0., ..., 0., 0., 0.],\n",
       "        [0., 0., 0., ..., 0., 0., 0.]]], dtype=float32)>"
      ]
     },
     "execution_count": 5,
     "metadata": {},
     "output_type": "execute_result"
    }
   ],
   "source": [
    "# pre\n",
    "# protein to be mutated with one-hot encoding\n",
    "input_data[0]"
   ]
  },
  {
   "cell_type": "code",
   "execution_count": 9,
   "metadata": {},
   "outputs": [
    {
     "data": {
      "text/plain": [
       "<tf.Tensor: shape=(1, 3924, 1), dtype=float32, numpy=\n",
       "array([[[0.],\n",
       "        [0.],\n",
       "        [0.],\n",
       "        ...,\n",
       "        [0.],\n",
       "        [0.],\n",
       "        [0.]]], dtype=float32)>"
      ]
     },
     "execution_count": 9,
     "metadata": {},
     "output_type": "execute_result"
    }
   ],
   "source": [
    "# rbd\n",
    "# rbd index of the protein complex\n",
    "input_data[1]"
   ]
  },
  {
   "cell_type": "code",
   "execution_count": 8,
   "metadata": {},
   "outputs": [
    {
     "data": {
      "text/plain": [
       "<tf.Tensor: shape=(1, 3924, 1), dtype=float32, numpy=\n",
       "array([[[0.],\n",
       "        [0.],\n",
       "        [0.],\n",
       "        ...,\n",
       "        [1.],\n",
       "        [1.],\n",
       "        [1.]]], dtype=float32)>"
      ]
     },
     "execution_count": 8,
     "metadata": {},
     "output_type": "execute_result"
    }
   ],
   "source": [
    "# same\n",
    "# index of amino acids for the binding proteins\n",
    "input_data[2]"
   ]
  },
  {
   "cell_type": "code",
   "execution_count": 10,
   "metadata": {},
   "outputs": [
    {
     "data": {
      "text/plain": [
       "<tf.Tensor: shape=(1, 3924, 1), dtype=float32, numpy=\n",
       "array([[[ 0.04882129],\n",
       "        [ 0.04745764],\n",
       "        [ 0.04641467],\n",
       "        ...,\n",
       "        [-0.00733794],\n",
       "        [-0.00811643],\n",
       "        [-0.00940997]]], dtype=float32)>"
      ]
     },
     "execution_count": 10,
     "metadata": {},
     "output_type": "execute_result"
    }
   ],
   "source": [
    "# x/y/z\n",
    "# amino acids' 3D coordinates\n",
    "# here is example of the x\n",
    "input_data[3]"
   ]
  },
  {
   "cell_type": "code",
   "execution_count": 11,
   "metadata": {},
   "outputs": [
    {
     "data": {
      "text/plain": [
       "<tf.Tensor: shape=(1, 3924, 1), dtype=float32, numpy=\n",
       "array([[[ 0.4595082 ],\n",
       "        [-1.4272584 ],\n",
       "        [-0.7729255 ],\n",
       "        ...,\n",
       "        [-1.5791382 ],\n",
       "        [ 0.7828522 ],\n",
       "        [ 0.35127756]]], dtype=float32)>"
      ]
     },
     "execution_count": 11,
     "metadata": {},
     "output_type": "execute_result"
    }
   ],
   "source": [
    "# noise\n",
    "# randome noise for deepdirect\n",
    "input_data[6]"
   ]
  },
  {
   "cell_type": "code",
   "execution_count": 30,
   "metadata": {},
   "outputs": [
    {
     "name": "stdout",
     "output_type": "stream",
     "text": [
      "1/1 [==============================] - 3s 3s/step\n"
     ]
    }
   ],
   "source": [
    "# Build amino acid mutator\n",
    "aa_mutator = build_aa_mutator()\n",
    "\n",
    "# Load pre-trained weights for model i\n",
    "aa_mutator.load_weights(deepdirect.weights_i)\n",
    "\n",
    "# Predict mutataions\n",
    "predict_result = aa_mutator.predict(input_data)"
   ]
  },
  {
   "cell_type": "code",
   "execution_count": 31,
   "metadata": {},
   "outputs": [
    {
     "data": {
      "text/plain": [
       "array([11, 17, 10, ..., 12, 12, 12])"
      ]
     },
     "execution_count": 31,
     "metadata": {},
     "output_type": "execute_result"
    }
   ],
   "source": [
    "# Obtain mutated sequence by argmax\n",
    "aft = K.argmax(predict_result, axis=-1).numpy()[0]\n",
    "aft"
   ]
  }
 ],
 "metadata": {
  "kernelspec": {
   "display_name": "deepdirect",
   "language": "python",
   "name": "python3"
  },
  "language_info": {
   "codemirror_mode": {
    "name": "ipython",
    "version": 3
   },
   "file_extension": ".py",
   "mimetype": "text/x-python",
   "name": "python",
   "nbconvert_exporter": "python",
   "pygments_lexer": "ipython3",
   "version": "3.8.18"
  },
  "orig_nbformat": 4
 },
 "nbformat": 4,
 "nbformat_minor": 2
}
